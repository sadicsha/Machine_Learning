{
  "nbformat": 4,
  "nbformat_minor": 0,
  "metadata": {
    "colab": {
      "name": "Gmail and SMS.ipynb",
      "provenance": [],
      "authorship_tag": "ABX9TyPzL6JQf74BXC/di+sPpkE7",
      "include_colab_link": true
    },
    "kernelspec": {
      "name": "python3",
      "display_name": "Python 3"
    },
    "language_info": {
      "name": "python"
    }
  },
  "cells": [
    {
      "cell_type": "markdown",
      "metadata": {
        "id": "view-in-github",
        "colab_type": "text"
      },
      "source": [
        "<a href=\"https://colab.research.google.com/github/sadicsha/Machine_Learning/blob/main/Gmail_and_SMS.ipynb\" target=\"_parent\"><img src=\"https://colab.research.google.com/assets/colab-badge.svg\" alt=\"Open In Colab\"/></a>"
      ]
    },
    {
      "cell_type": "code",
      "metadata": {
        "colab": {
          "base_uri": "https://localhost:8080/"
        },
        "id": "lmcABuRk3pmn",
        "outputId": "5dbfff6d-6dbb-498d-bfe0-f50b550dacf5"
      },
      "source": [
        "import smtplib\n",
        "\n",
        "server=smtplib.SMTP_SSL(\"smtp.gmail.com\",465)\n",
        "server.login(\"saadikshakhandait@gmail.com\",\"khandait09\")\n",
        "server.sendmail(\"saadikshakhandait@gmail.com\",\"sadicshaa@gmail.com\",\"1 person detected\")\n",
        "server.quit()"
      ],
      "execution_count": null,
      "outputs": [
        {
          "output_type": "execute_result",
          "data": {
            "text/plain": [
              "(221, b'2.0.0 closing connection r18sm2889262vkp.33 - gsmtp')"
            ]
          },
          "metadata": {},
          "execution_count": 10
        }
      ]
    },
    {
      "cell_type": "code",
      "metadata": {
        "colab": {
          "base_uri": "https://localhost:8080/"
        },
        "id": "pnY9oNKaCkcI",
        "outputId": "31043485-c2e3-4e50-c95c-cdcbb121378c"
      },
      "source": [
        "from twilio.rest import Client\n",
        "sid=\"ACc8f461bc3cab53e3ad3663f9b7a0535a\"\n",
        "token=\"2efa4544ddb59ec3ee23251ee309f5bf\"\n",
        "client =Client(sid,token)\n",
        "message=client.messages.create(\n",
        "    to=\"+919975799936\",\n",
        "    from_= \"+17315357311\",\n",
        "    body= \"1 Person Detected\"\n",
        ")\n",
        "print(message.sid)"
      ],
      "execution_count": 35,
      "outputs": [
        {
          "output_type": "stream",
          "name": "stdout",
          "text": [
            "SM3fef2078a36948ef9e53a6ca6c2eb1a0\n"
          ]
        }
      ]
    }
  ]
}